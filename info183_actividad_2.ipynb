{
 "cells": [
  {
   "cell_type": "markdown",
   "metadata": {},
   "source": [
    "# Actividad 2 INFO183\n",
    "\n",
    "#### Instrucciones generales\n",
    "\n",
    "- Complete este cuadernillo jupyter con sus códigos y respuestas\n",
    "- Se trabajará en grupos de tres personas\n",
    "- Se entrega un cuadernillo por grupo\n",
    "- La entrega es a través de correo electrónico a phuijse@inf.uach.cl\n",
    "- La fecha de entrega es el Lunes 16 de Marzo a las 23:59\n",
    "- Use las librerías `scipy`, `numpy` y `matplotlib`"
   ]
  },
  {
   "cell_type": "markdown",
   "metadata": {},
   "source": [
    "### Nombre completo de los integrantes: \n",
    "- A\n",
    "- B\n",
    "- C"
   ]
  },
  {
   "cell_type": "markdown",
   "metadata": {},
   "source": [
    "## Parte 0: Responda las siguientes preguntas sobre sistemas LTI"
   ]
  },
  {
   "cell_type": "markdown",
   "metadata": {},
   "source": [
    "**Q:** ¿Qué es la respuesta al impulso de un sistema? "
   ]
  },
  {
   "cell_type": "markdown",
   "metadata": {},
   "source": [
    "**Q:** ¿Qué relación tiene la respuesta al impulso con la respuesta en frecuencia?"
   ]
  },
  {
   "cell_type": "markdown",
   "metadata": {},
   "source": [
    "**Q:** ¿Qué es un sistema LTI y por qué es conveniente estudiarlos en el dominio de la frecuencia?"
   ]
  },
  {
   "cell_type": "markdown",
   "metadata": {},
   "source": [
    "**Q:** Escriba  la  ecuación  de  un  sistema  FIR  general  de $L+ 1$ coeficientes\n",
    "\n",
    "\n",
    "$$\n",
    "x = y + z\n",
    "$$"
   ]
  },
  {
   "cell_type": "markdown",
   "metadata": {},
   "source": [
    "**Q:** Describa paso a paso el método de enventanado para diseñar filtros FIR"
   ]
  },
  {
   "cell_type": "markdown",
   "metadata": {},
   "source": [
    "### Enunciado: Análisis y limpieza de un Electrocardiograma\n",
    "\n",
    "Un **electrocardiograma (ECG)** es un gráfico de voltaje (amplitud) versus tiempo correspondiente a la actividad eléctrica del corazón. El ECG se usa para estudiar el ritmo cardiaco. Un humano normal tiene un ritmo cardiáco entre **60 y 100 latidos por minuto**. \n",
    "\n",
    "Considere la siguiente señal de electrocardiograma (ECG) medida en miliVolts [mV] y cuya frecuencia de muestreo es $F_s = 360 Hz$"
   ]
  },
  {
   "cell_type": "code",
   "execution_count": null,
   "metadata": {},
   "outputs": [],
   "source": [
    "import numpy as np\n",
    "import pickle\n",
    "%matplotlib notebook\n",
    "import matplotlib.pylab as plt\n",
    "\n",
    "with open(\"ECG.pkl\", \"rb\") as f:\n",
    "    data = pickle.load(f)\n",
    "\n",
    "fig, ax = plt.subplots(figsize=(8, 3), tight_layout=True)\n",
    "ax.plot(np.arange(len(data))/360, data)\n",
    "ax.set_xlabel('Tiempo [s]')\n",
    "ax.set_ylabel('Amplitud [mV]');"
   ]
  },
  {
   "cell_type": "markdown",
   "metadata": {},
   "source": [
    "Durante el proceso de captura ciertos errores provocaron que la señal se contaminara con\n",
    "\n",
    "- Un ruido en torno a la frecuencia del sistema eléctrico\n",
    "- Un ruido de baja frecuencia (tendencia) causado por un desperfecto del sensor\n",
    "- Un ruido térmico que aparece en todo el rango de frecuencias (blanco)\n",
    "\n",
    "Esto complica el análisis del médico por lo que el el hospital base de Valdivia los contrata a ustedes para **diseñar un filtro que limpie la señal ECG**\n",
    "\n",
    "Resuelva las actividades que se piden a continuación, respondiendo y analizando donde corresponda"
   ]
  },
  {
   "cell_type": "markdown",
   "metadata": {},
   "source": [
    "## Paso 1: Análisis de un ECG\n",
    "\n",
    "Antes de diseñar el filtro visualize la señal en el espacio de frecuencias\n",
    "\n",
    "Dado que la ECG es una **señal no estacionaria** lo más adecuado es estudiar su **espectrograma**: estimador del espectro de magnitud en función del tiempo\n",
    "\n",
    "Utilize `scipy.signal.spectrogram` para visualizar el espectrograma del ECG\n",
    "\n",
    "- Especifique la frecuencia de muestreo adecuadamente\n",
    "- Utilice un largo de ventana (segmento) de 5x360 (5 segundos) y un traslape  (overlap) de 4x360 (4 segundos)\n",
    "- Mejore la visualización utilizando el logaritmo del espectrograma (sume un pequeño factor 1e-5 para evitar indeficiones)"
   ]
  },
  {
   "cell_type": "code",
   "execution_count": null,
   "metadata": {},
   "outputs": [],
   "source": [
    "scipy.signal.spectrogram?"
   ]
  },
  {
   "cell_type": "markdown",
   "metadata": {},
   "source": [
    "#### Considerando el ritmo cardiaco de un ser humano normal y estudiando el espectrograma obtenido, responda: "
   ]
  },
  {
   "cell_type": "markdown",
   "metadata": {},
   "source": [
    "**Q:** ¿En qué rango de frecuencias (Hz) del espectrograma se espera encontrar la señal de ritmo cardiaco? "
   ]
  },
  {
   "cell_type": "markdown",
   "metadata": {},
   "source": [
    "**Q:** Identifique y describa el comportamiento espectral de las dos fuentes de ruido que se encuentran en el espectrograma"
   ]
  },
  {
   "cell_type": "markdown",
   "metadata": {},
   "source": [
    "**Q:** Si tuviera que diseñar un filtro para eliminar este ruido, ¿De qué tipo sería? ¿Cuál o cuáles serían sus frecuencias de corte [Hz]?"
   ]
  },
  {
   "cell_type": "markdown",
   "metadata": {},
   "source": [
    "**Q:** ¿Es posible eliminar completamente el ruido blanco con un filtro en frecuencia? ¿Por qué?"
   ]
  },
  {
   "cell_type": "markdown",
   "metadata": {},
   "source": [
    "## Paso 2: Filtrado de un ECG\n",
    "\n",
    "Diseñe un filtro para eliminar el ruido encontrado en el punto anterior considerando el tipo de filtro y la/las frecuencia/s de corte que especificó en el paso anterior\n",
    "\n",
    "Obtenga la respuesta al impulso del filtro con la función `scipy.signal.firwin`. Utilice las ventanas `boxcar` (rectangular) y `hamming`. Consideré un número de coeficientes (`ntaps`) de 500 y 1000. Esto corresponde a 4 filtros. \n",
    "\n",
    "- Muestre en un gráfico la magnitud de la respuesta en frecuencia de los 4 filtros (use `scipy.signal.freqz`). Destaque las diferencias y semejanzas entre las respuestas en frecuencia contrastando con la teoría.\n",
    "\n",
    "Filtre la señal convolucionando con la respuesta al impulso obtenida. Puede usar `scipy.signal.convolve` con `mode=\"same\"`\n",
    "\n",
    "- Para cada filtro: Grafique la señal filtrada y su espectrograma. Discuta sobre la efectividad del filtro\n",
    "- Mida el tiempo que demora convolucionar la señal con cada filtro y construya una tabla (ver ejemplo) ¿Cuál es el filtro más eficiente? ¿Cuál es el menos eficiente?"
   ]
  },
  {
   "cell_type": "code",
   "execution_count": null,
   "metadata": {},
   "outputs": [],
   "source": [
    "scipy.signal.freqz?"
   ]
  },
  {
   "cell_type": "code",
   "execution_count": null,
   "metadata": {},
   "outputs": [],
   "source": [
    "scipy.signal.firwin?"
   ]
  },
  {
   "cell_type": "code",
   "execution_count": null,
   "metadata": {},
   "outputs": [],
   "source": [
    "scipy.signal.convolve?"
   ]
  },
  {
   "cell_type": "code",
   "execution_count": null,
   "metadata": {},
   "outputs": [],
   "source": [
    "def ejemplo(x, y):\n",
    "    return x**y\n",
    "\n",
    "%timeit -n1 -r3 ejemplo(10, 10)"
   ]
  },
  {
   "cell_type": "markdown",
   "metadata": {},
   "source": [
    "Supongamos ahora que el hospital gasta muchisimo dinero en un nuevo sensor de mejor calidad. Se mide el ECG del mismo paciente usando el sensor nuevo.\n",
    "\n",
    "Use esta nueva señal para medir la calidad de sus filtros. Evalue usando la métrica de error cuadrático medio\n",
    "$$\n",
    "\\text{MSE} = \\frac{1}{N} \\sum_{i=1}^N (x_i - y_i)^2\n",
    "$$\n",
    "\n",
    "- Calcule el error cuadrático medio entre la señal limpia y las señales filtradas. ¿Cuál filtro tiene el mejor rendimiento en términos de MSE? ¿Cuál filtro tiene el peor rendimiento?\n",
    "- Muestre en un gráfico los primeros cinco segundos de la señal limpia, la señal sucia y la mejor señal filtrada en términos de MSE. Comente respecto a este resultado"
   ]
  },
  {
   "cell_type": "code",
   "execution_count": null,
   "metadata": {},
   "outputs": [],
   "source": [
    "import pickle\n",
    "with open(\"ECG_nueva.pkl\", \"rb\") as f:\n",
    "    data_clean = pickle.load(f)"
   ]
  },
  {
   "cell_type": "code",
   "execution_count": null,
   "metadata": {},
   "outputs": [],
   "source": []
  }
 ],
 "metadata": {
  "kernelspec": {
   "display_name": "Python 3",
   "language": "python",
   "name": "python3"
  },
  "language_info": {
   "codemirror_mode": {
    "name": "ipython",
    "version": 3
   },
   "file_extension": ".py",
   "mimetype": "text/x-python",
   "name": "python",
   "nbconvert_exporter": "python",
   "pygments_lexer": "ipython3",
   "version": "3.7.3"
  }
 },
 "nbformat": 4,
 "nbformat_minor": 2
}
