{
 "cells": [
  {
   "cell_type": "markdown",
   "metadata": {},
   "source": [
    "# Actividad 2 INFO183\n",
    "\n",
    "#### Instrucciones generales\n",
    "\n",
    "- Complete este cuadernillo jupyter con sus códigos y respuestas\n",
    "- Se trabajará en grupos de tres personas\n",
    "- Se entrega un cuadernillo por grupo\n",
    "- La entrega es a través de correo electrónico a phuijse@inf.uach.cl\n",
    "- La fecha de entrega es el Lunes 16 de Marzo a las 23:59\n",
    "- Use las librerías `scipy`, `numpy` y `matplotlib`"
   ]
  },
  {
   "cell_type": "markdown",
   "metadata": {},
   "source": [
    "### Nombre completo de los integrantes: \n",
    "- A\n",
    "- B\n",
    "- C"
   ]
  },
  {
   "cell_type": "markdown",
   "metadata": {},
   "source": [
    "### Teórico: Responda las siguientes preguntas sobre sistemas LTI"
   ]
  },
  {
   "cell_type": "markdown",
   "metadata": {},
   "source": [
    "¿Qué es la respuesta al impulso de un sistema? "
   ]
  },
  {
   "cell_type": "markdown",
   "metadata": {},
   "source": [
    "¿Qué relación tiene la respuesta al impulso con la respuesta en frecuencia?"
   ]
  },
  {
   "cell_type": "markdown",
   "metadata": {},
   "source": [
    "¿Qué es un sistema LTI y por qué es conveniente estudiarlos en el dominio de la frecuencia?"
   ]
  },
  {
   "cell_type": "markdown",
   "metadata": {},
   "source": [
    "Escriba  la  ecuación  de  un  sistema  FIR  general  de L+ 1 coeficientes\n",
    "\n",
    "\n",
    "$$\n",
    "x = y + z\n",
    "$$"
   ]
  },
  {
   "cell_type": "markdown",
   "metadata": {},
   "source": [
    "### Práctico: Análisis y limpieza de un Electrocardiograma\n",
    "\n",
    "Un **electrocardiograma (ECG)** es un gráfico de voltaje (amplitud) versus tiempo correspondiente a la actividad eléctrica del corazón. El ECG se usa para estudiar el ritmo cardiaco. Un humano normal tiene un ritmo cardiáco entre **60 y 100 latidos por minuto**. \n",
    "\n",
    "Considere la siguiente señal de electrocardiograma (ECG) medida en miliVolts [mV] y cuya frecuencia de muestreo es $F_s = 360 Hz$"
   ]
  },
  {
   "cell_type": "code",
   "execution_count": null,
   "metadata": {},
   "outputs": [],
   "source": [
    "import numpy as np\n",
    "import pickle\n",
    "%matplotlib notebook\n",
    "import matplotlib.pylab as plt\n",
    "\n",
    "with open(\"ECG2.pkl\", \"rb\") as f:\n",
    "    data = pickle.load(f)\n",
    "\n",
    "fig, ax = plt.subplots(figsize=(8, 3), tight_layout=True)\n",
    "ax.plot(np.arange(len(data))/360, data)\n",
    "ax.set_xlabel('Tiempo [s]')\n",
    "ax.set_ylabel('Amplitud [mV]');"
   ]
  },
  {
   "cell_type": "markdown",
   "metadata": {},
   "source": [
    "Durante el proceso de captura ciertos errores provocaron que la señal se contaminara con dos fuentes de ruido\n",
    "- Un ruido asociado a la frecuencia del sistema eléctrico\n",
    "- Un ruido de alta frecuencia causado por un desperfecto del sensor\n",
    "\n",
    "Esto complica el análisis del médico por lo que el el hospital base de Valdivia los contrata a ustedes para hacer una limpieza de la señal ECG\n",
    "\n",
    "Resuelva las actividades que se piden a continuación, respondiendo y analizando donde corresponda"
   ]
  },
  {
   "cell_type": "markdown",
   "metadata": {},
   "source": [
    "## Paso 1: Análisis\n",
    "\n",
    "Antes de diseñar un filtro visualize la señal en el espacio de frecuencias\n",
    "\n",
    "Dado que la ECG es una **señal no estacionaria** se recomienda estudiar su **espectrograma**: estimador del espectro de magnitud en función del tiempo\n",
    "\n",
    "Utilize `scipy.signal.spectrogram` para visualizar el espectrograma del ECG\n",
    "\n",
    "- Especifique la frecuencia de muestreo adecuadamente\n",
    "- Utilize un largo de ventana (segmento) de 2*360\n",
    "- Mejore la visualización utilizando el logaritmo del espectrograma (sume un pequeño factor 1e-5)"
   ]
  },
  {
   "cell_type": "code",
   "execution_count": null,
   "metadata": {},
   "outputs": [],
   "source": []
  },
  {
   "cell_type": "markdown",
   "metadata": {},
   "source": [
    "#### Considerando el ritmo cardiaco de un ser humano normal y estudiando el espectrograma obtenido, responda: "
   ]
  },
  {
   "cell_type": "markdown",
   "metadata": {},
   "source": [
    "¿En qué rango de frecuencias (Hz) del espectrograma se espera encontrar la señal de ritmo cardiaco? "
   ]
  },
  {
   "cell_type": "markdown",
   "metadata": {},
   "source": [
    "Identifique y describa el comportamiento espectral de las dos fuentes de ruido que se encuentran en el espectrograma"
   ]
  },
  {
   "cell_type": "markdown",
   "metadata": {},
   "source": [
    "Si tuviera que diseñar un filtro para eliminar este ruido, ¿De qué tipo sería? ¿Cuál o cuáles serían sus frecuencias de corte [Hz]?"
   ]
  },
  {
   "cell_type": "markdown",
   "metadata": {},
   "source": [
    "## Paso 2: Filtrado"
   ]
  },
  {
   "cell_type": "code",
   "execution_count": null,
   "metadata": {},
   "outputs": [],
   "source": []
  }
 ],
 "metadata": {
  "kernelspec": {
   "display_name": "Python 3",
   "language": "python",
   "name": "python3"
  },
  "language_info": {
   "codemirror_mode": {
    "name": "ipython",
    "version": 3
   },
   "file_extension": ".py",
   "mimetype": "text/x-python",
   "name": "python",
   "nbconvert_exporter": "python",
   "pygments_lexer": "ipython3",
   "version": "3.7.4"
  }
 },
 "nbformat": 4,
 "nbformat_minor": 2
}
